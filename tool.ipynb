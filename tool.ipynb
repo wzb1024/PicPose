{
 "cells": [
  {
   "cell_type": "markdown",
   "metadata": {},
   "source": [
    "## 初始化通用参数"
   ]
  },
  {
   "cell_type": "code",
   "execution_count": null,
   "metadata": {
    "notebookRunGroups": {
     "groupValue": "1"
    }
   },
   "outputs": [],
   "source": [
    "import argparse\n",
    "import os\n",
    "import sys\n",
    "sys.argv = ['run.py']\n",
    "\n",
    "from mmengine import Config, DictAction\n",
    "from mmengine.config import Config\n",
    "from mmpose.utils import register_all_modules\n",
    "from mmengine.hooks import Hook\n",
    "from mmengine.runner import Runner\n",
    "\n",
    "import initialize\n",
    "\n",
    "\n",
    "#命名规则 {{算法信息}}_{{模块信息}}_{{训练信息}}_{{数据信息}}\n",
    "CONFIG='../configs/animal_2d_keypoint/topdown_heatmap/animalpose/td-hm_res101_8xb64-210e_animalpose-256x256.py'\n",
    "DATASET='V1_985'\n",
    "REMARK='NoAug'\n",
    "NAME='{}_{}_{}'.format(CONFIG.split('/')[-1].split('.')[0],DATASET,REMARK)\n",
    "\n",
    "parser = argparse.ArgumentParser()\n",
    "parser.add_argument('--config',default=CONFIG,help='配置文件')\n",
    "parser.add_argument('--work-dir',default=f'./results/{NAME}/',type=str,help='工作区根目录')\n",
    "parser.add_argument('--data-root',default=f'./datasets/{DATASET}',type=str,help='数据集根目录')\n",
    "parser.add_argument(\n",
    "        '--cfg-options',\n",
    "        nargs='+',\n",
    "        action=DictAction,\n",
    "        help='覆盖配置，键值对 '\n",
    "        'in xxx=yyy format will be merged into config file. If the value to '\n",
    "        'be overwritten is a list, it should be like key=\"[a,b]\" or key=a,b '\n",
    "        'It also allows nested list/tuple values, e.g. key=\"[(a,b),(c,d)]\" '\n",
    "        'Note that the quotation marks are necessary and that no white space '\n",
    "        'is allowed.')\n",
    "args = parser.parse_args()\n",
    "\n",
    "#自定义配置文件\n",
    "cfg=initialize.get_cfg(args) \n",
    "cfg.dump('config_tmp.py')\n"
   ]
  },
  {
   "cell_type": "markdown",
   "metadata": {},
   "source": [
    "## 展示数据"
   ]
  },
  {
   "cell_type": "code",
   "execution_count": null,
   "metadata": {},
   "outputs": [],
   "source": [
    "parser.add_argument('--output-dir',default=args.work_dir+'dataset_show/',type=str,help='输出根目录')\n",
    "parser.add_argument('--not_show', default=True)\n",
    "parser.add_argument('--phase',default='val',type=str,choices=['train', 'test', 'val'],help='查看某阶段的数据集')\n",
    "parser.add_argument('--show_interval',type=float,default=2,help='显示的间隔')\n",
    "parser.add_argument('--mode',default='transformed',type=str,choices=['original', 'transformed'],\n",
    "    help='展示原图或增强效果'\n",
    "    'pictures. \"original\" means to show images load from disk'\n",
    "    '; \"transformed\" means to show images after transformed;'\n",
    "    'Defaults to \"transformed\".')\n",
    "args = parser.parse_args()\n",
    "\n",
    "%run ../tools/misc/browse_dataset.py config_tmp.py --output-dir {args.output_dir} --phase {args.phase} --mode {args.mode}"
   ]
  },
  {
   "cell_type": "markdown",
   "metadata": {},
   "source": [
    "## 训练"
   ]
  },
  {
   "cell_type": "code",
   "execution_count": null,
   "metadata": {
    "notebookRunGroups": {
     "groupValue": "1"
    }
   },
   "outputs": [],
   "source": [
    "parser.add_argument('--resume',nargs='?',type=str,const='auto',\n",
    "    help='If specify checkpint path, resume from it, while if not '\n",
    "    'specify, try to auto resume from the latest checkpoint '\n",
    "    'in the work directory.')\n",
    "parser.add_argument('--amp', action='store_true',default=False,help='启用自动混合精度训练')\n",
    "parser.add_argument('--no-validate',action='store_true',help='是否在训练中验证')\n",
    "parser.add_argument('--auto-scale-lr',action='store_true',help='是否自动缩放学习率')\n",
    "parser.add_argument('--show-dir',default=args.work_dir+'train_show/',help='保存可视化图像的目录')\n",
    "parser.add_argument('--show',action='store_true', help='是否直接展示预测结果')\n",
    "parser.add_argument('--interval',type=int,default=1,help='visualize per interval samples.')\n",
    "parser.add_argument('--wait-time',type=float,default=1,help='display time of every window. (second)')\n",
    "parser.add_argument('--launcher',choices=['none', 'pytorch', 'slurm', 'mpi'],default='none',help='job launcher')\n",
    "parser.add_argument('--local_rank', type=int, default=0)\n",
    "args = parser.parse_args()\n",
    "if 'LOCAL_RANK' not in os.environ:\n",
    "    os.environ['LOCAL_RANK'] = str(args.local_rank)\n",
    "\n",
    "%run ../tools/train.py config_tmp.py  --show-dir {args.show_dir}\n"
   ]
  },
  {
   "cell_type": "markdown",
   "metadata": {},
   "source": [
    "## 测试"
   ]
  },
  {
   "cell_type": "code",
   "execution_count": null,
   "metadata": {},
   "outputs": [],
   "source": [
    "parser.add_argument('--checkpoint',default=r\"E:\\Desktop\\pig_hoof\\results\\td-hm_res101_8xb64-210e_animalpose-256x256_V985_NoAug\\epoch_210.pth\", help='checkpoint file')\n",
    "# parser.add_argument('--work-dir',default=args.work_dir+'eval/', help='the directory to save evaluation results')\n",
    "parser.add_argument('--out',default=args.work_dir+'eval/eval.txt', help='保存结果的文件')\n",
    "parser.add_argument('--dump',type=str,default=args.work_dir+'eval/eval.pkl',help='将预测转储到pickle文件以进行离线评估')\n",
    "parser.add_argument('--show-dir',default=args.work_dir+'eval/show/',help='保存测试图像的推理结果')\n",
    "parser.add_argument('--show',default=True,help='是否直接展示测试结果')\n",
    "parser.add_argument('--interval',type=int,default=1,help='visualize per interval samples.')\n",
    "parser.add_argument('--wait-time',type=float,default=1,help='display time of every window. (second)')\n",
    "parser.add_argument('--launcher',choices=['none', 'pytorch', 'slurm', 'mpi'],default='none',help='job launcher')\n",
    "parser.add_argument('--local_rank', type=int, default=0)\n",
    "args.work_dir=args.work_dir+'eval/'\n",
    "args = parser.parse_args()\n",
    "\n",
    "\n",
    "%run ../tools/test.py config_tmp.py {args.checkpoint} --out {args.out} --show-dir {args.show_dir} --work-dir {args.work_dir}\n"
   ]
  }
 ],
 "metadata": {
  "kernelspec": {
   "display_name": "mmpose",
   "language": "python",
   "name": "python3"
  },
  "language_info": {
   "codemirror_mode": {
    "name": "ipython",
    "version": 3
   },
   "file_extension": ".py",
   "mimetype": "text/x-python",
   "name": "python",
   "nbconvert_exporter": "python",
   "pygments_lexer": "ipython3",
   "version": "3.8.16"
  },
  "orig_nbformat": 4,
  "vscode": {
   "interpreter": {
    "hash": "434e978de80d037cb6eb7c84b47f1f0057a5934c2545f7aab2510ac42bfaa469"
   }
  }
 },
 "nbformat": 4,
 "nbformat_minor": 2
}
