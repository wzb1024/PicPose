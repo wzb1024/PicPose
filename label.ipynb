{
 "cells": [
  {
   "cell_type": "markdown",
   "metadata": {},
   "source": [
    "# 查看标签"
   ]
  },
  {
   "cell_type": "code",
   "execution_count": 1,
   "metadata": {},
   "outputs": [
    {
     "name": "stdout",
     "output_type": "stream",
     "text": [
      "load checkpoint from local path: mmpose/work_dirs/resnet101_pig/epoch_190.pth\n"
     ]
    }
   ],
   "source": [
    "import cv2\n",
    "import cv2 as cv\n",
    "from mmpose.apis import (inference_top_down_pose_model, init_pose_model,\n",
    "                         vis_pose_result, process_mmdet_results)\n",
    "from mmdet.apis import inference_detector, init_detector\n",
    "import mmcv\n",
    "import numpy as np\n",
    "\n",
    "\n",
    "# 导入可视化工具包 matplotlib，并让绘制的图像嵌入在 notebook 中\n",
    "import matplotlib.pyplot as plt\n",
    "%matplotlib inline\n",
    "\n",
    "# 定义可视化图像函数，输入图像路径，可视化图像\n",
    "def show_img_from_path(img_path):\n",
    "    '''opencv 读入图像，matplotlib 可视化格式为 RGB，因此需将 BGR 转 RGB，最后可视化出来'''\n",
    "    img = cv2.imread(img_path)\n",
    "    img_RGB = cv2.cvtColor(img, cv2.COLOR_BGR2RGB)\n",
    "    plt.imshow(img_RGB)\n",
    "    plt.show()\n",
    "    \n",
    "# 定义可视化图像函数，输入图像 array，可视化图像\n",
    "def show_img_from_array(img):\n",
    "    '''输入 array，matplotlib 可视化格式为 RGB，因此需将 BGR 转 RGB，最后可视化出来'''\n",
    "    img_RGB = cv2.cvtColor(img, cv2.COLOR_BGR2RGB)\n",
    "    plt.imshow(img_RGB)\n",
    "    plt.show()\n",
    "\n",
    "pose_config = 'mmpose/configs/res101_pig.py'\n",
    "pose_checkpoint = 'mmpose/work_dirs/resnet101_pig/epoch_190.pth'\n",
    "\n",
    "# initialize pose model\n",
    "pose_model = init_pose_model(pose_config, pose_checkpoint,device='cuda:0')"
   ]
  },
  {
   "cell_type": "code",
   "execution_count": 2,
   "metadata": {},
   "outputs": [],
   "source": [
    "import math\n",
    "def angle(v1, v2):\n",
    "  dx1 = v1[2] - v1[0]\n",
    "  dy1 = v1[3] - v1[1]\n",
    "  dx2 = v2[2] - v2[0]\n",
    "  dy2 = v2[3] - v2[1]\n",
    "  angle1 = math.atan2(dy1, dx1)\n",
    "  angle1 = angle1 * 180/math.pi\n",
    "  # print(angle1)\n",
    "  angle2 = math.atan2(dy2, dx2)\n",
    "  angle2 = angle2 * 180/math.pi\n",
    "  # print(angle2)\n",
    "  if angle1*angle2 >= 0:\n",
    "    included_angle = abs(angle1-angle2)\n",
    "  else:\n",
    "    included_angle = abs(angle1) + abs(angle2)\n",
    "  return included_angle"
   ]
  },
  {
   "cell_type": "code",
   "execution_count": 3,
   "metadata": {},
   "outputs": [],
   "source": [
    "def angle_for_label(points):\n",
    "    points=np.array(points)\n",
    "    link=list()\n",
    "    for i in range(4):\n",
    "        l=list()\n",
    "        l.append(points[0][:2])\n",
    "        l.append(points[i*4+1:i*4+5,:2])\n",
    "        link.append(l)\n",
    "        \n",
    "    angle_points=list()\n",
    "    for it in link:\n",
    "        l=list()\n",
    "        for i in range(3):\n",
    "            l.append(np.append(it[0],it[1][i]))\n",
    "            l.append(np.append(it[1][i+1],it[1][i]))\n",
    "        l.append(np.append(it[1][0],it[1][1]))\n",
    "        l.append(np.append(it[1][2],it[1][1]))\n",
    "        l.append(np.append(it[1][1],it[1][2]))\n",
    "        l.append(np.append(it[1][3],it[1][2]))\n",
    "        angle_points.append(l)\n",
    "\n",
    "    angles=list()\n",
    "    for it in angle_points:\n",
    "        l=list()\n",
    "        for i in range(5):\n",
    "            if 0 in it[i*2+1] or 0 in it[i*2]:\n",
    "                l.append(-1)\n",
    "                continue\n",
    "            l.append(angle(it[i*2],it[i*2+1]))\n",
    "        angles.append(l)\n",
    "    \n",
    "    return angles\n"
   ]
  },
  {
   "cell_type": "code",
   "execution_count": 4,
   "metadata": {},
   "outputs": [],
   "source": [
    "skl_dic=pose_model.cfg.dataset_info.skeleton_info\n",
    "point_dic=pose_model.cfg.dataset_info.keypoint_info"
   ]
  },
  {
   "cell_type": "code",
   "execution_count": 5,
   "metadata": {},
   "outputs": [],
   "source": [
    "point_dic={v['name']:k for k,v in point_dic.items()}\n",
    "skl_dic=[v['link'] for k,v in skl_dic.items()]\n",
    "skl_dic=[(point_dic[i[0]],point_dic[i[1]]) for i in skl_dic]"
   ]
  },
  {
   "cell_type": "code",
   "execution_count": 14,
   "metadata": {},
   "outputs": [],
   "source": [
    "import json\n",
    "import pprint\n",
    "import cv2\n",
    "# from easydl import clear_output\n",
    "import time\n",
    "import os\n",
    "\n",
    "# 载入训练集标注文件\n",
    "data = json.load(open('/home/zhenbang/project/openmmlab/low/train.json', 'r'))\n",
    "imgs_root='/home/zhenbang/project/openmmlab/low/images'\n",
    "anns=data['annotations']\n",
    "imgs=data['images']\n",
    "imgs={i['id']:i['file_name'] for i in imgs}\n",
    "anns=sorted(anns,key=lambda x:x['image_id'])\n"
   ]
  },
  {
   "cell_type": "code",
   "execution_count": 15,
   "metadata": {},
   "outputs": [],
   "source": [
    "i=1\n",
    "agl=[]\n",
    "idx=[]\n",
    "for it in anns:\n",
    "    img_path=os.path.join(imgs_root,imgs[it['image_id']])\n",
    "    img=cv2.imread(img_path)\n",
    "\n",
    "    # h,w,c=img.shape\n",
    "    # thr=w/4\n",
    "    # l=int(thr)\n",
    "    # r=int(w-thr)\n",
    "\n",
    "    keypoints=it['keypoints']\n",
    "    # bbox=it['bbox']\n",
    "    points=[keypoints[i:i+3] for i in range(0,len(keypoints),3)]\n",
    "    # for it in points:\n",
    "    #     if it[0]<l or it[0]>r:\n",
    "    #         it[0]=0\n",
    "    #         it[1]=0\n",
    "    #         it[2]=0\n",
    "\n",
    "    # for skl in skl_dic:\n",
    "    #     if points[skl[0]][2]==2 and points[skl[1]][2]==2:\n",
    "    #         cv2.line(img,(points[skl[0]][0],points[skl[0]][1]),(points[skl[1]][0],points[skl[1]][1]),(0,0,255),3)\n",
    "    # for point in points:\n",
    "    #     if point[2]==2:\n",
    "    #         cv2.circle(img,(point[0],point[1]),3,(0,255,0),-1)\n",
    "    #         # cv2.rectangle(img,(bbox[0],bbox[1]),(bbox[0]+bbox[2],bbox[1]+bbox[3]),(0,0,255),8)\n",
    "    #         # cv2.rectangle(img,(l,0),(r,h),(0,0,255),8)\n",
    "    angles=angle_for_label(points)\n",
    "    agl.append(angles[3])\n",
    "    # # rrhoof=angles[3][-2]\n",
    "\n",
    "    # # if rrhoof > 60:\n",
    "    # #     agl.append(rrhoof)\n",
    "    # #     idx.append(i)\n",
    "    # # # plt.ylim(60,260)\n",
    "    # # plt.plot(idx,agl,color='r',marker='o',linestyle='-.',alpha=0.5)\n",
    "    # i+=1\n",
    "    # # plt.show()\n",
    "    # show_img_from_array(img)\n",
    "    # cv.imwrite(f'/home/zhenbang/project/openmmlab/weak/after/weak_{i}.jpg',img)"
   ]
  },
  {
   "cell_type": "code",
   "execution_count": null,
   "metadata": {},
   "outputs": [],
   "source": [
    "np.save('bad.npy',agl)"
   ]
  },
  {
   "cell_type": "code",
   "execution_count": 16,
   "metadata": {},
   "outputs": [],
   "source": [
    "agl=np.array(agl)"
   ]
  },
  {
   "cell_type": "code",
   "execution_count": 17,
   "metadata": {},
   "outputs": [],
   "source": [
    "bad=agl[:,4]"
   ]
  },
  {
   "cell_type": "code",
   "execution_count": 9,
   "metadata": {},
   "outputs": [],
   "source": [
    "weak=agl[:,4]"
   ]
  },
  {
   "cell_type": "code",
   "execution_count": 13,
   "metadata": {},
   "outputs": [],
   "source": [
    "good=agl[:,4]"
   ]
  },
  {
   "cell_type": "code",
   "execution_count": null,
   "metadata": {},
   "outputs": [],
   "source": [
    "good=np.load('good.npy')[:,3][:15]\n",
    "bad=np.load('bad.npy')[:,3][:15]\n",
    "weak=np.load('weak.npy')[:,3][:15]"
   ]
  },
  {
   "cell_type": "code",
   "execution_count": null,
   "metadata": {},
   "outputs": [],
   "source": [
    "good_=np.add(0.8*np.load('good.npy')[:,3][:15],np.load('good.npy')[:,4][:15])\n",
    "bad_=np.add(0.8*np.load('bad.npy')[:,3][:15],np.load('bad.npy')[:,4][:15])\n",
    "weak_=np.add(0.8*np.load('weak.npy')[:,3][:15],np.load('weak.npy')[:,4][:15])"
   ]
  },
  {
   "cell_type": "code",
   "execution_count": null,
   "metadata": {},
   "outputs": [],
   "source": [
    "index=np.arange(15)"
   ]
  },
  {
   "cell_type": "code",
   "execution_count": null,
   "metadata": {},
   "outputs": [],
   "source": [
    "weak=weak[:-1]"
   ]
  },
  {
   "cell_type": "code",
   "execution_count": null,
   "metadata": {},
   "outputs": [],
   "source": []
  },
  {
   "cell_type": "code",
   "execution_count": 25,
   "metadata": {},
   "outputs": [
    {
     "data": {
      "text/plain": [
       "<matplotlib.legend.Legend at 0x7f5d6e72fbb0>"
      ]
     },
     "execution_count": 25,
     "metadata": {},
     "output_type": "execute_result"
    },
    {
     "data": {
      "image/png": "[encoded data removed]",
      "text/plain": [
       "<Figure size 640x480 with 1 Axes>"
      ]
     },
     "metadata": {},
     "output_type": "display_data"
    }
   ],
   "source": [
    "plt.ylim(100,300)\n",
    "plt.xlabel('index')\n",
    "plt.ylabel('angle')\n",
    "plt.plot(np.arange(len(good)),good,color='g',marker='o',linestyle='-.',alpha=0.5,label='good')\n",
    "plt.text(0, 280, 'std(good): '+str(int(np.std(good))), fontsize=10,color='g')\n",
    "plt.plot(np.arange(len(weak)),weak,color='b',marker='o',linestyle='-.',alpha=0.5,label='weak')\n",
    "plt.text(4, 280, 'std(weak): '+str(int(np.std(weak))), fontsize=10,color='b')\n",
    "plt.plot(np.arange(len(bad)),bad,color='r',marker='o',linestyle='-.',alpha=0.5,label='bad')\n",
    "plt.text(8, 280, 'std(bad): '+str(int(np.std(bad))), fontsize=10,color='r')\n",
    "plt.legend()\n",
    "\n"
   ]
  },
  {
   "cell_type": "code",
   "execution_count": null,
   "metadata": {},
   "outputs": [],
   "source": [
    "def L1(yhat, y):\n",
    "    loss =np.sum(np.abs(y - yhat))\n",
    "    return loss"
   ]
  },
  {
   "cell_type": "code",
   "execution_count": null,
   "metadata": {},
   "outputs": [],
   "source": [
    "L1(good,weak)"
   ]
  },
  {
   "cell_type": "code",
   "execution_count": null,
   "metadata": {},
   "outputs": [],
   "source": [
    "L1(good,bad)"
   ]
  },
  {
   "cell_type": "code",
   "execution_count": null,
   "metadata": {},
   "outputs": [],
   "source": [
    "L1(weak,bad)"
   ]
  },
  {
   "cell_type": "code",
   "execution_count": null,
   "metadata": {},
   "outputs": [],
   "source": [
    "L1(good_,weak_)"
   ]
  },
  {
   "cell_type": "code",
   "execution_count": null,
   "metadata": {},
   "outputs": [],
   "source": [
    "L1(good_,bad_)"
   ]
  },
  {
   "cell_type": "code",
   "execution_count": null,
   "metadata": {},
   "outputs": [],
   "source": [
    "it = anns[0]\n",
    "img_path=os.path.join(imgs_root,imgs[it['image_id']])\n",
    "img=cv2.imread(img_path)\n",
    "show_img_from_array(img)"
   ]
  },
  {
   "cell_type": "code",
   "execution_count": null,
   "metadata": {},
   "outputs": [],
   "source": [
    "from mpl_toolkits.mplot3d import Axes3D\n",
    "import matplotlib.pyplot as plt\n",
    "from matplotlib import cm\n",
    "from matplotlib.ticker import LinearLocator, FormatStrFormatter\n",
    "import numpy as np\n",
    " \n",
    " \n",
    "fig = plt.figure()\n",
    "ax = fig.add_subplot(111, projection='3d')\n",
    "\n",
    " \n",
    "# Make data.\n",
    "X = weak[0]\n",
    "Y = weak1[0]\n",
    "X, Y = np.meshgrid(X, Y)\n",
    "Z = np.ones_like(X)\n",
    " \n",
    "# Plot the surface.\n",
    "surf = ax.plot_surface(X, Y, Z, cmap=cm.coolwarm,\n",
    "                       linewidth=0, antialiased=False)\n",
    " \n",
    "# Customize the z axis.\n",
    "ax.set_zlim(-1.01, 1.01)\n",
    "ax.zaxis.set_major_locator(LinearLocator(10))\n",
    "ax.zaxis.set_major_formatter(FormatStrFormatter('%.02f'))\n",
    " \n",
    "# Add a color bar which maps values to colors.\n",
    "fig.colorbar(surf, shrink=0.5, aspect=5)\n",
    " \n",
    "plt.show()"
   ]
  }
 ],
 "metadata": {
  "kernelspec": {
   "display_name": "Python 3.9.7 ('yolov5')",
   "language": "python",
   "name": "python3"
  },
  "language_info": {
   "codemirror_mode": {
    "name": "ipython",
    "version": 3
   },
   "file_extension": ".py",
   "mimetype": "text/x-python",
   "name": "python",
   "nbconvert_exporter": "python",
   "pygments_lexer": "ipython3",
   "version": "3.9.7"
  },
  "orig_nbformat": 4,
  "vscode": {
   "interpreter": {
    "hash": "87a645f44f665aaed5c60f94f83e20eb2a69d371a28d0006194951415b1f461a"
   }
  }
 },
 "nbformat": 4,
 "nbformat_minor": 2
}
